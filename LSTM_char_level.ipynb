{
  "nbformat": 4,
  "nbformat_minor": 0,
  "metadata": {
    "kernelspec": {
      "display_name": "Python [default]",
      "language": "python",
      "name": "python3"
    },
    "language_info": {
      "codemirror_mode": {
        "name": "ipython",
        "version": 3
      },
      "file_extension": ".py",
      "mimetype": "text/x-python",
      "name": "python",
      "nbconvert_exporter": "python",
      "pygments_lexer": "ipython3",
      "version": "3.6.4"
    },
    "colab": {
      "name": "Character_Level_RNN_Exercise.ipynb",
      "provenance": []
    },
    "accelerator": "GPU"
  },
  "cells": [
    {
      "cell_type": "markdown",
      "metadata": {
        "id": "pCVEYnD59UYo",
        "colab_type": "text"
      },
      "source": [
        "# Character-Level LSTM in PyTorch\n",
        "\n",
        "In this notebook, I'll construct a character-level LSTM with PyTorch. The network will train character by character on some text, then generate new text character by character. As an example, I will train on Anna Karenina. **This model will be able to generate new text based on the text from the book!**\n",
        "\n",
        "This network is based off of Andrej Karpathy's [post on RNNs](http://karpathy.github.io/2015/05/21/rnn-effectiveness/) and [implementation in Torch](https://github.com/karpathy/char-rnn). Below is the general architecture of the character-wise RNN.\n",
        "\n",
        "<img src=\"assets/charseq.jpeg\" width=\"500\">"
      ]
    },
    {
      "cell_type": "markdown",
      "metadata": {
        "id": "H7QCMgKL9UYp",
        "colab_type": "text"
      },
      "source": [
        "First let's load in our required resources for data loading and model creation."
      ]
    },
    {
      "cell_type": "code",
      "metadata": {
        "id": "jG2YwTwR9UYq",
        "colab_type": "code",
        "colab": {}
      },
      "source": [
        "import numpy as np\n",
        "import torch\n",
        "from torch import nn\n",
        "import torch.nn.functional as F"
      ],
      "execution_count": 0,
      "outputs": []
    },
    {
      "cell_type": "markdown",
      "metadata": {
        "id": "dBANglQj9UYu",
        "colab_type": "text"
      },
      "source": [
        "## Load in Data\n",
        "\n",
        "Then, we'll load the Anna Karenina text file and convert it into integers for our network to use. "
      ]
    },
    {
      "cell_type": "code",
      "metadata": {
        "id": "azwr1zAE9UYu",
        "colab_type": "code",
        "colab": {}
      },
      "source": [
        "# open text file and read in data as `text`\n",
        "with open('data/anna.txt', 'r') as f:\n",
        "    text = f.read()"
      ],
      "execution_count": 0,
      "outputs": []
    },
    {
      "cell_type": "markdown",
      "metadata": {
        "id": "9MZvPR959UYx",
        "colab_type": "text"
      },
      "source": [
        "Let's check out the first 100 characters, make sure everything is peachy. According to the [American Book Review](http://americanbookreview.org/100bestlines.asp), this is the 6th best first line of a book ever."
      ]
    },
    {
      "cell_type": "code",
      "metadata": {
        "id": "n0rftZ839UYx",
        "colab_type": "code",
        "colab": {
          "base_uri": "https://localhost:8080/",
          "height": 35
        },
        "outputId": "eeb1d424-d782-4884-f80e-bfeb5c8f39d0"
      },
      "source": [
        "text[:100]"
      ],
      "execution_count": 4,
      "outputs": [
        {
          "output_type": "execute_result",
          "data": {
            "text/plain": [
              "'Chapter 1\\n\\n\\nHappy families are all alike; every unhappy family is unhappy in its own\\nway.\\n\\nEverythin'"
            ]
          },
          "metadata": {
            "tags": []
          },
          "execution_count": 4
        }
      ]
    },
    {
      "cell_type": "markdown",
      "metadata": {
        "id": "lX4l7_bq9UY0",
        "colab_type": "text"
      },
      "source": [
        "### Tokenization\n",
        "\n",
        "In the cells, below, I'm creating a couple **dictionaries** to convert the characters to and from integers. Encoding the characters as integers makes it easier to use as input in the network."
      ]
    },
    {
      "cell_type": "code",
      "metadata": {
        "id": "Z_dzDqlG9UY0",
        "colab_type": "code",
        "colab": {}
      },
      "source": [
        "# encode the text and map each character to an integer and vice versa\n",
        "\n",
        "# we create two dictionaries:\n",
        "# 1. int2char, which maps integers to characters\n",
        "# 2. char2int, which maps characters to unique integers\n",
        "chars = tuple(set(text))\n",
        "int2char = dict(enumerate(chars))\n",
        "char2int = {ch: ii for ii, ch in int2char.items()}\n",
        "\n",
        "# encode the text\n",
        "encoded = np.array([char2int[ch] for ch in text])"
      ],
      "execution_count": 0,
      "outputs": []
    },
    {
      "cell_type": "markdown",
      "metadata": {
        "id": "sumrPnSk9UY3",
        "colab_type": "text"
      },
      "source": [
        "And we can see those same characters from above, encoded as integers."
      ]
    },
    {
      "cell_type": "code",
      "metadata": {
        "id": "5YGzlWk39UY3",
        "colab_type": "code",
        "colab": {
          "base_uri": "https://localhost:8080/",
          "height": 125
        },
        "outputId": "bea16d61-9e04-4bf9-d957-5713e698883f"
      },
      "source": [
        "encoded[:100]"
      ],
      "execution_count": 6,
      "outputs": [
        {
          "output_type": "execute_result",
          "data": {
            "text/plain": [
              "array([49, 34, 74, 61, 38, 40, 59, 17,  1, 54, 54, 54, 64, 74, 61, 61,  2,\n",
              "       17, 63, 74, 73,  3, 70,  3, 40, 44, 17, 74, 59, 40, 17, 74, 70, 70,\n",
              "       17, 74, 70,  3, 50, 40, 58, 17, 40, 60, 40, 59,  2, 17, 57, 72, 34,\n",
              "       74, 61, 61,  2, 17, 63, 74, 73,  3, 70,  2, 17,  3, 44, 17, 57, 72,\n",
              "       34, 74, 61, 61,  2, 17,  3, 72, 17,  3, 38, 44, 17, 11, 52, 72, 54,\n",
              "       52, 74,  2,  6, 54, 54, 24, 60, 40, 59,  2, 38, 34,  3, 72])"
            ]
          },
          "metadata": {
            "tags": []
          },
          "execution_count": 6
        }
      ]
    },
    {
      "cell_type": "markdown",
      "metadata": {
        "id": "LEMhQ0aF9UY6",
        "colab_type": "text"
      },
      "source": [
        "## Pre-processing the data\n",
        "\n",
        "As you can see in our char-RNN image above, our LSTM expects an input that is **one-hot encoded** meaning that each character is converted into an integer (via our created dictionary) and *then* converted into a column vector where only it's corresponding integer index will have the value of 1 and the rest of the vector will be filled with 0's. Since we're one-hot encoding the data, let's make a function to do that!\n"
      ]
    },
    {
      "cell_type": "code",
      "metadata": {
        "id": "9VilTtGu9UY6",
        "colab_type": "code",
        "colab": {}
      },
      "source": [
        "def one_hot_encode(arr, n_labels):\n",
        "    \n",
        "    # Initialize the the encoded array\n",
        "    one_hot = np.zeros((arr.size, n_labels), dtype=np.float32)\n",
        "    \n",
        "    # Fill the appropriate elements with ones\n",
        "    one_hot[np.arange(one_hot.shape[0]), arr.flatten()] = 1.\n",
        "    \n",
        "    # Finally reshape it to get back to the original array\n",
        "    one_hot = one_hot.reshape((*arr.shape, n_labels))\n",
        "    \n",
        "    return one_hot"
      ],
      "execution_count": 0,
      "outputs": []
    },
    {
      "cell_type": "code",
      "metadata": {
        "id": "xBX4HxIV9UY9",
        "colab_type": "code",
        "colab": {
          "base_uri": "https://localhost:8080/",
          "height": 71
        },
        "outputId": "6b38f3ca-ff8e-4449-b356-830bef1fba17"
      },
      "source": [
        "# check that the function works as expected\n",
        "test_seq = np.array([[3, 5, 1]])\n",
        "one_hot = one_hot_encode(test_seq, 8)\n",
        "\n",
        "print(one_hot)"
      ],
      "execution_count": 8,
      "outputs": [
        {
          "output_type": "stream",
          "text": [
            "[[[0. 0. 0. 1. 0. 0. 0. 0.]\n",
            "  [0. 0. 0. 0. 0. 1. 0. 0.]\n",
            "  [0. 1. 0. 0. 0. 0. 0. 0.]]]\n"
          ],
          "name": "stdout"
        }
      ]
    },
    {
      "cell_type": "markdown",
      "metadata": {
        "id": "UeX-WWEr9UY_",
        "colab_type": "text"
      },
      "source": [
        "## Making training mini-batches\n",
        "\n",
        "\n",
        "To train on this data, we also want to create mini-batches for training. Remember that we want our batches to be multiple sequences of some desired number of sequence steps. Considering a simple example, our batches would look like this:\n",
        "\n",
        "<img src=\"assets/sequence_batching@1x.png\" width=500px>\n",
        "\n",
        "\n",
        "<br>\n",
        "\n",
        "In this example, we'll take the encoded characters (passed in as the `arr` parameter) and split them into multiple sequences, given by `batch_size`. Each of our sequences will be `seq_length` long.\n",
        "\n",
        "### Creating Batches\n",
        "\n",
        "**1. The first thing we need to do is discard some of the text so we only have completely full mini-batches. **\n",
        "\n",
        "Each batch contains $N \\times M$ characters, where $N$ is the batch size (the number of sequences in a batch) and $M$ is the seq_length or number of time steps in a sequence. Then, to get the total number of batches, $K$, that we can make from the array `arr`, you divide the length of `arr` by the number of characters per batch. Once you know the number of batches, you can get the total number of characters to keep from `arr`, $N * M * K$.\n",
        "\n",
        "**2. After that, we need to split `arr` into $N$ batches. ** \n",
        "\n",
        "You can do this using `arr.reshape(size)` where `size` is a tuple containing the dimensions sizes of the reshaped array. We know we want $N$ sequences in a batch, so let's make that the size of the first dimension. For the second dimension, you can use `-1` as a placeholder in the size, it'll fill up the array with the appropriate data for you. After this, you should have an array that is $N \\times (M * K)$.\n",
        "\n",
        "**3. Now that we have this array, we can iterate through it to get our mini-batches. **\n",
        "\n",
        "The idea is each batch is a $N \\times M$ window on the $N \\times (M * K)$ array. For each subsequent batch, the window moves over by `seq_length`. We also want to create both the input and target arrays. Remember that the targets are just the inputs shifted over by one character. The way I like to do this window is use `range` to take steps of size `n_steps` from $0$ to `arr.shape[1]`, the total number of tokens in each sequence. That way, the integers you get from `range` always point to the start of a batch, and each window is `seq_length` wide.\n",
        "\n",
        "> **TODO:** Write the code for creating batches in the function below. The exercises in this notebook _will not be easy_. I've provided a notebook with solutions alongside this notebook. If you get stuck, checkout the solutions. The most important thing is that you don't copy and paste the code into here, **type out the solution code yourself.**"
      ]
    },
    {
      "cell_type": "code",
      "metadata": {
        "id": "7POeF7mV9UY_",
        "colab_type": "code",
        "colab": {}
      },
      "source": [
        "def get_batches(arr, batch_size, seq_length):\n",
        "    '''Create a generator that returns batches of size\n",
        "       batch_size x seq_length from arr.\n",
        "       \n",
        "       Arguments\n",
        "       ---------\n",
        "       arr: Array you want to make batches from\n",
        "       batch_size: Batch size, the number of sequences per batch\n",
        "       seq_length: Number of encoded chars in a sequence\n",
        "    '''\n",
        "    \n",
        "    ## TODO: Get the number of batches we can make\n",
        "    batch_size_total = batch_size*seq_length\n",
        "    n_batches = len(arr)//batch_size_total\n",
        "    \n",
        "    ## TODO: Keep only enough characters to make full batches\n",
        "    arr = arr[:n_batches * batch_size_total]\n",
        "    \n",
        "    ## TODO: Reshape into batch_size rows\n",
        "    arr = arr.reshape((batch_size, -1))\n",
        "    \n",
        "    ## TODO: Iterate over the batches using a window of size seq_length\n",
        "    for n in range(0, arr.shape[1], seq_length):\n",
        "        # The features\n",
        "        x = arr[:, n:n+seq_length]\n",
        "        # The targets, shifted by one\n",
        "        y = np.zeros_like(x)\n",
        "        try:\n",
        "            y[:, :-1], y[:, -1] = x[:, 1:], arr[:, n+seq_length]\n",
        "        except IndexError:\n",
        "            y[:, :-1], y[:, -1] = x[:, 1:], arr[:, 0]\n",
        "        yield x, y"
      ],
      "execution_count": 0,
      "outputs": []
    },
    {
      "cell_type": "markdown",
      "metadata": {
        "id": "31l1KumL9UZC",
        "colab_type": "text"
      },
      "source": [
        "### Test Your Implementation\n",
        "\n",
        "Now I'll make some data sets and we can check out what's going on as we batch data. Here, as an example, I'm going to use a batch size of 8 and 50 sequence steps."
      ]
    },
    {
      "cell_type": "code",
      "metadata": {
        "id": "D-DIrKys9UZC",
        "colab_type": "code",
        "colab": {}
      },
      "source": [
        "batches = get_batches(encoded, 8, 50)\n",
        "x, y = next(batches)"
      ],
      "execution_count": 0,
      "outputs": []
    },
    {
      "cell_type": "code",
      "metadata": {
        "id": "Oe_TUx7w9UZF",
        "colab_type": "code",
        "colab": {
          "base_uri": "https://localhost:8080/",
          "height": 359
        },
        "outputId": "cd0cf56b-d4c6-45fe-c883-3c056b78e7bc"
      },
      "source": [
        "# printing out the first 10 items in a sequence\n",
        "print('x\\n', x[:10, :10])\n",
        "print('\\ny\\n', y[:10, :10])"
      ],
      "execution_count": 11,
      "outputs": [
        {
          "output_type": "stream",
          "text": [
            "x\n",
            " [[49 34 74 61 38 40 59 17  1 54]\n",
            " [40  7 17 43 40 60  3 72  6 54]\n",
            " [40 59 17 32 74 59 59  3 74 29]\n",
            " [72 11 73  3 32 45 54 40 38 34]\n",
            " [72 74 70 17 63 11 59 73 44 17]\n",
            " [17 74 70 70 17 52 40 72 38 17]\n",
            " [38 17 74 72  7 17 38 52  3 38]\n",
            " [40  6 67 54 54 13 38 17 38 34]]\n",
            "\n",
            "y\n",
            " [[34 74 61 38 40 59 17  1 54 54]\n",
            " [ 7 17 43 40 60  3 72  6 54 54]\n",
            " [59 17 32 74 59 59  3 74 29 40]\n",
            " [11 73  3 32 45 54 40 38 34 72]\n",
            " [74 70 17 63 11 59 73 44 17 11]\n",
            " [74 70 70 17 52 40 72 38 17 11]\n",
            " [17 74 72  7 17 38 52  3 38 32]\n",
            " [ 6 67 54 54 13 38 17 38 34 40]]\n"
          ],
          "name": "stdout"
        }
      ]
    },
    {
      "cell_type": "markdown",
      "metadata": {
        "id": "53y7iQnM9UZI",
        "colab_type": "text"
      },
      "source": [
        "If you implemented `get_batches` correctly, the above output should look something like \n",
        "```\n",
        "x\n",
        " [[25  8 60 11 45 27 28 73  1  2]\n",
        " [17  7 20 73 45  8 60 45 73 60]\n",
        " [27 20 80 73  7 28 73 60 73 65]\n",
        " [17 73 45  8 27 73 66  8 46 27]\n",
        " [73 17 60 12 73  8 27 28 73 45]\n",
        " [66 64 17 17 46  7 20 73 60 20]\n",
        " [73 76 20 20 60 73  8 60 80 73]\n",
        " [47 35 43  7 20 17 24 50 37 73]]\n",
        "\n",
        "y\n",
        " [[ 8 60 11 45 27 28 73  1  2  2]\n",
        " [ 7 20 73 45  8 60 45 73 60 45]\n",
        " [20 80 73  7 28 73 60 73 65  7]\n",
        " [73 45  8 27 73 66  8 46 27 65]\n",
        " [17 60 12 73  8 27 28 73 45 27]\n",
        " [64 17 17 46  7 20 73 60 20 80]\n",
        " [76 20 20 60 73  8 60 80 73 17]\n",
        " [35 43  7 20 17 24 50 37 73 36]]\n",
        " ```\n",
        " although the exact numbers may be different. Check to make sure the data is shifted over one step for `y`."
      ]
    },
    {
      "cell_type": "markdown",
      "metadata": {
        "id": "NTarhpS69UZI",
        "colab_type": "text"
      },
      "source": [
        "---\n",
        "## Defining the network with PyTorch\n",
        "\n",
        "Below is where you'll define the network.\n",
        "\n",
        "<img src=\"assets/charRNN.png\" width=500px>\n",
        "\n",
        "Next, you'll use PyTorch to define the architecture of the network. We start by defining the layers and operations we want. Then, define a method for the forward pass. You've also been given a method for predicting characters."
      ]
    },
    {
      "cell_type": "markdown",
      "metadata": {
        "id": "RNO5opW-9UZJ",
        "colab_type": "text"
      },
      "source": [
        "### Model Structure\n",
        "\n",
        "In `__init__` the suggested structure is as follows:\n",
        "* Create and store the necessary dictionaries (this has been done for you)\n",
        "* Define an LSTM layer that takes as params: an input size (the number of characters), a hidden layer size `n_hidden`, a number of layers `n_layers`, a dropout probability `drop_prob`, and a batch_first boolean (True, since we are batching)\n",
        "* Define a dropout layer with `drop_prob`\n",
        "* Define a fully-connected layer with params: input size `n_hidden` and output size (the number of characters)\n",
        "* Finally, initialize the weights (again, this has been given)\n",
        "\n",
        "Note that some parameters have been named and given in the `__init__` function, and we use them and store them by doing something like `self.drop_prob = drop_prob`."
      ]
    },
    {
      "cell_type": "markdown",
      "metadata": {
        "id": "nGSEGGWx9UZJ",
        "colab_type": "text"
      },
      "source": [
        "---\n",
        "### LSTM Inputs/Outputs\n",
        "\n",
        "You can create a basic [LSTM layer](https://pytorch.org/docs/stable/nn.html#lstm) as follows\n",
        "\n",
        "```python\n",
        "self.lstm = nn.LSTM(input_size, n_hidden, n_layers, \n",
        "                            dropout=drop_prob, batch_first=True)\n",
        "```\n",
        "\n",
        "where `input_size` is the number of characters this cell expects to see as sequential input, and `n_hidden` is the number of units in the hidden layers in the cell. And we can add dropout by adding a dropout parameter with a specified probability; this will automatically add dropout to the inputs or outputs. Finally, in the `forward` function, we can stack up the LSTM cells into layers using `.view`. With this, you pass in a list of cells and it will send the output of one cell into the next cell.\n",
        "\n",
        "We also need to create an initial hidden state of all zeros. This is done like so\n",
        "\n",
        "```python\n",
        "self.init_hidden()\n",
        "```"
      ]
    },
    {
      "cell_type": "code",
      "metadata": {
        "id": "kq-qvwpg9UZJ",
        "colab_type": "code",
        "colab": {
          "base_uri": "https://localhost:8080/",
          "height": 35
        },
        "outputId": "d96e448e-6864-4eba-c07c-2bc0ed37cf33"
      },
      "source": [
        "# check if GPU is available\n",
        "train_on_gpu = torch.cuda.is_available()\n",
        "if(train_on_gpu):\n",
        "    print('Training on GPU!')\n",
        "else: \n",
        "    print('No GPU available, training on CPU; consider making n_epochs very small.')"
      ],
      "execution_count": 12,
      "outputs": [
        {
          "output_type": "stream",
          "text": [
            "Training on GPU!\n"
          ],
          "name": "stdout"
        }
      ]
    },
    {
      "cell_type": "code",
      "metadata": {
        "id": "slwNRypE9UZM",
        "colab_type": "code",
        "colab": {}
      },
      "source": [
        "class CharRNN(nn.Module):\n",
        "    \n",
        "    def __init__(self, tokens, n_hidden=256, n_layers=2,\n",
        "                               drop_prob=0.5, lr=0.001):\n",
        "        super().__init__()\n",
        "        self.drop_prob = drop_prob\n",
        "        self.n_layers = n_layers\n",
        "        self.n_hidden = n_hidden\n",
        "        self.lr = lr\n",
        "        \n",
        "        # creating character dictionaries\n",
        "        self.chars = tokens\n",
        "        self.int2char = dict(enumerate(self.chars))\n",
        "        self.char2int = {ch: ii for ii, ch in self.int2char.items()}\n",
        "        self.dropout = nn.Dropout(drop_prob)\n",
        "        ## TODO: define the layers of the model\n",
        "        self.lstm = nn.LSTM(len(self.chars),n_hidden,n_layers,dropout=drop_prob,batch_first=True)\n",
        "        self.fc = nn.Linear(n_hidden,len(self.chars))\n",
        "    def forward(self, x, hidden):\n",
        "        ''' Forward pass through the network. \n",
        "            These inputs are x, and the hidden/cell state `hidden`. '''\n",
        "                \n",
        "        ## TODO: Get the outputs and the new hidden state from the lstm\n",
        "        r_output, hidden = self.lstm(x, hidden)\n",
        "        # return the final output and the hidden state\n",
        "        out = self.dropout(r_output)\n",
        "        out = out.contiguous().view(-1, self.n_hidden)\n",
        "        out = self.fc(out)\n",
        "        return out, hidden\n",
        "    \n",
        "    \n",
        "    def init_hidden(self, batch_size):\n",
        "        ''' Initializes hidden state '''\n",
        "        # Create two new tensors with sizes n_layers x batch_size x n_hidden,\n",
        "        # initialized to zero, for hidden state and cell state of LSTM\n",
        "        weight = next(self.parameters()).data\n",
        "        \n",
        "        if (train_on_gpu):\n",
        "            hidden = (weight.new(self.n_layers, batch_size, self.n_hidden).zero_().cuda(),\n",
        "                  weight.new(self.n_layers, batch_size, self.n_hidden).zero_().cuda())\n",
        "        else:\n",
        "            hidden = (weight.new(self.n_layers, batch_size, self.n_hidden).zero_(),\n",
        "                      weight.new(self.n_layers, batch_size, self.n_hidden).zero_())\n",
        "        \n",
        "        return hidden\n",
        "        "
      ],
      "execution_count": 0,
      "outputs": []
    },
    {
      "cell_type": "markdown",
      "metadata": {
        "id": "l3AVlvlH9UZO",
        "colab_type": "text"
      },
      "source": [
        "## Time to train\n",
        "\n",
        "The train function gives us the ability to set the number of epochs, the learning rate, and other parameters.\n",
        "\n",
        "Below we're using an Adam optimizer and cross entropy loss since we are looking at character class scores as output. We calculate the loss and perform backpropagation, as usual!\n",
        "\n",
        "A couple of details about training: \n",
        ">* Within the batch loop, we detach the hidden state from its history; this time setting it equal to a new *tuple* variable because an LSTM has a hidden state that is a tuple of the hidden and cell states.\n",
        "* We use [`clip_grad_norm_`](https://pytorch.org/docs/stable/_modules/torch/nn/utils/clip_grad.html) to help prevent exploding gradients."
      ]
    },
    {
      "cell_type": "code",
      "metadata": {
        "id": "2iMXH-U09UZO",
        "colab_type": "code",
        "colab": {}
      },
      "source": [
        "def train(net, data, epochs=10, batch_size=10, seq_length=50, lr=0.001, clip=5, val_frac=0.1, print_every=10):\n",
        "    ''' Training a network \n",
        "    \n",
        "        Arguments\n",
        "        ---------\n",
        "        \n",
        "        net: CharRNN network\n",
        "        data: text data to train the network\n",
        "        epochs: Number of epochs to train\n",
        "        batch_size: Number of mini-sequences per mini-batch, aka batch size\n",
        "        seq_length: Number of character steps per mini-batch\n",
        "        lr: learning rate\n",
        "        clip: gradient clipping\n",
        "        val_frac: Fraction of data to hold out for validation\n",
        "        print_every: Number of steps for printing training and validation loss\n",
        "    \n",
        "    '''\n",
        "    net.train()\n",
        "    \n",
        "    opt = torch.optim.Adam(net.parameters(), lr=lr)\n",
        "    criterion = nn.CrossEntropyLoss()\n",
        "    \n",
        "    # create training and validation data\n",
        "    val_idx = int(len(data)*(1-val_frac))\n",
        "    data, val_data = data[:val_idx], data[val_idx:]\n",
        "    \n",
        "    if(train_on_gpu):\n",
        "        net.cuda()\n",
        "    \n",
        "    counter = 0\n",
        "    n_chars = len(net.chars)\n",
        "    for e in range(epochs):\n",
        "        # initialize hidden state\n",
        "        h = net.init_hidden(batch_size)\n",
        "        \n",
        "        for x, y in get_batches(data, batch_size, seq_length):\n",
        "            counter += 1\n",
        "            \n",
        "            # One-hot encode our data and make them Torch tensors\n",
        "            x = one_hot_encode(x, n_chars)\n",
        "            inputs, targets = torch.from_numpy(x), torch.from_numpy(y)\n",
        "            \n",
        "            if(train_on_gpu):\n",
        "                inputs, targets = inputs.cuda(), targets.cuda()\n",
        "\n",
        "            # Creating new variables for the hidden state, otherwise\n",
        "            # we'd backprop through the entire training history\n",
        "            h = tuple([each.data for each in h])\n",
        "\n",
        "            # zero accumulated gradients\n",
        "            net.zero_grad()\n",
        "            \n",
        "            # get the output from the model\n",
        "            output, h = net(inputs, h)\n",
        "            \n",
        "            # calculate the loss and perform backprop\n",
        "            loss = criterion(output, targets.view(batch_size*seq_length).long())\n",
        "            loss.backward()\n",
        "            # `clip_grad_norm` helps prevent the exploding gradient problem in RNNs / LSTMs.\n",
        "            nn.utils.clip_grad_norm_(net.parameters(), clip)\n",
        "            opt.step()\n",
        "            \n",
        "            # loss stats\n",
        "            if counter % print_every == 0:\n",
        "                # Get validation loss\n",
        "                val_h = net.init_hidden(batch_size)\n",
        "                val_losses = []\n",
        "                net.eval()\n",
        "                for x, y in get_batches(val_data, batch_size, seq_length):\n",
        "                    # One-hot encode our data and make them Torch tensors\n",
        "                    x = one_hot_encode(x, n_chars)\n",
        "                    x, y = torch.from_numpy(x), torch.from_numpy(y)\n",
        "                    \n",
        "                    # Creating new variables for the hidden state, otherwise\n",
        "                    # we'd backprop through the entire training history\n",
        "                    val_h = tuple([each.data for each in val_h])\n",
        "                    \n",
        "                    inputs, targets = x, y\n",
        "                    if(train_on_gpu):\n",
        "                        inputs, targets = inputs.cuda(), targets.cuda()\n",
        "\n",
        "                    output, val_h = net(inputs, val_h)\n",
        "                    val_loss = criterion(output, targets.view(batch_size*seq_length).long())\n",
        "                \n",
        "                    val_losses.append(val_loss.item())\n",
        "                \n",
        "                net.train() # reset to train mode after iterationg through validation data\n",
        "                \n",
        "                print(\"Epoch: {}/{}...\".format(e+1, epochs),\n",
        "                      \"Step: {}...\".format(counter),\n",
        "                      \"Loss: {:.4f}...\".format(loss.item()),\n",
        "                      \"Val Loss: {:.4f}\".format(np.mean(val_losses)))"
      ],
      "execution_count": 0,
      "outputs": []
    },
    {
      "cell_type": "markdown",
      "metadata": {
        "id": "Ql52iaSs9UZR",
        "colab_type": "text"
      },
      "source": [
        "## Instantiating the model\n",
        "\n",
        "Now we can actually train the network. First we'll create the network itself, with some given hyperparameters. Then, define the mini-batches sizes, and start training!"
      ]
    },
    {
      "cell_type": "code",
      "metadata": {
        "id": "9VKtf4mi9UZR",
        "colab_type": "code",
        "colab": {
          "base_uri": "https://localhost:8080/",
          "height": 107
        },
        "outputId": "b195cd27-f53f-46f2-a0ef-2b60d2c098a2"
      },
      "source": [
        "## TODO: set your model hyperparameters\n",
        "# define and print the net\n",
        "n_hidden=512\n",
        "n_layers=2\n",
        "\n",
        "net = CharRNN(chars, n_hidden, n_layers)\n",
        "print(net)"
      ],
      "execution_count": 19,
      "outputs": [
        {
          "output_type": "stream",
          "text": [
            "CharRNN(\n",
            "  (dropout): Dropout(p=0.5, inplace=False)\n",
            "  (lstm): LSTM(76, 512, num_layers=2, batch_first=True, dropout=0.5)\n",
            "  (fc): Linear(in_features=512, out_features=76, bias=True)\n",
            ")\n"
          ],
          "name": "stdout"
        }
      ]
    },
    {
      "cell_type": "markdown",
      "metadata": {
        "id": "Ao75TuL89UZU",
        "colab_type": "text"
      },
      "source": [
        "### Set your training hyperparameters!"
      ]
    },
    {
      "cell_type": "code",
      "metadata": {
        "scrolled": true,
        "id": "-ptgTpPB9UZU",
        "colab_type": "code",
        "colab": {
          "base_uri": "https://localhost:8080/",
          "height": 1000
        },
        "outputId": "2d7ba784-d477-4ec4-c8fc-9ad9dc7c63ff"
      },
      "source": [
        "batch_size = 128\n",
        "seq_length = 100\n",
        "n_epochs = 20 # start small if you are just testing initial behavior\n",
        "\n",
        "# train the model\n",
        "train(net, encoded, epochs=n_epochs, batch_size=batch_size, seq_length=seq_length, lr=0.001, print_every=10)"
      ],
      "execution_count": 20,
      "outputs": [
        {
          "output_type": "stream",
          "text": [
            "Epoch: 1/20... Step: 10... Loss: 3.2376... Val Loss: 3.1843\n",
            "Epoch: 1/20... Step: 20... Loss: 3.1547... Val Loss: 3.1269\n",
            "Epoch: 1/20... Step: 30... Loss: 3.1762... Val Loss: 3.1161\n",
            "Epoch: 1/20... Step: 40... Loss: 3.1294... Val Loss: 3.1142\n",
            "Epoch: 1/20... Step: 50... Loss: 3.1093... Val Loss: 3.1122\n",
            "Epoch: 1/20... Step: 60... Loss: 3.1127... Val Loss: 3.1089\n",
            "Epoch: 1/20... Step: 70... Loss: 3.0859... Val Loss: 3.1030\n",
            "Epoch: 2/20... Step: 80... Loss: 3.0872... Val Loss: 3.0947\n",
            "Epoch: 2/20... Step: 90... Loss: 3.0900... Val Loss: 3.0724\n",
            "Epoch: 2/20... Step: 100... Loss: 3.0192... Val Loss: 3.0127\n",
            "Epoch: 2/20... Step: 110... Loss: 2.9498... Val Loss: 2.9447\n",
            "Epoch: 2/20... Step: 120... Loss: 2.8385... Val Loss: 2.7924\n",
            "Epoch: 2/20... Step: 130... Loss: 2.6909... Val Loss: 2.6496\n",
            "Epoch: 2/20... Step: 140... Loss: 2.5962... Val Loss: 2.5519\n",
            "Epoch: 3/20... Step: 150... Loss: 2.5480... Val Loss: 2.5143\n",
            "Epoch: 3/20... Step: 160... Loss: 2.5247... Val Loss: 2.4673\n",
            "Epoch: 3/20... Step: 170... Loss: 2.4505... Val Loss: 2.4224\n",
            "Epoch: 3/20... Step: 180... Loss: 2.4243... Val Loss: 2.3809\n",
            "Epoch: 3/20... Step: 190... Loss: 2.4054... Val Loss: 2.3497\n",
            "Epoch: 3/20... Step: 200... Loss: 2.3532... Val Loss: 2.3162\n",
            "Epoch: 3/20... Step: 210... Loss: 2.3460... Val Loss: 2.2858\n",
            "Epoch: 4/20... Step: 220... Loss: 2.3233... Val Loss: 2.2534\n",
            "Epoch: 4/20... Step: 230... Loss: 2.2861... Val Loss: 2.2224\n",
            "Epoch: 4/20... Step: 240... Loss: 2.2409... Val Loss: 2.1937\n",
            "Epoch: 4/20... Step: 250... Loss: 2.2620... Val Loss: 2.1743\n",
            "Epoch: 4/20... Step: 260... Loss: 2.2181... Val Loss: 2.1358\n",
            "Epoch: 4/20... Step: 270... Loss: 2.1677... Val Loss: 2.1080\n",
            "Epoch: 4/20... Step: 280... Loss: 2.1541... Val Loss: 2.0835\n",
            "Epoch: 5/20... Step: 290... Loss: 2.1568... Val Loss: 2.0605\n",
            "Epoch: 5/20... Step: 300... Loss: 2.1026... Val Loss: 2.0376\n",
            "Epoch: 5/20... Step: 310... Loss: 2.0995... Val Loss: 2.0218\n",
            "Epoch: 5/20... Step: 320... Loss: 2.0853... Val Loss: 1.9904\n",
            "Epoch: 5/20... Step: 330... Loss: 2.0649... Val Loss: 1.9680\n",
            "Epoch: 5/20... Step: 340... Loss: 2.0765... Val Loss: 1.9506\n",
            "Epoch: 5/20... Step: 350... Loss: 2.0216... Val Loss: 1.9268\n",
            "Epoch: 5/20... Step: 360... Loss: 2.0161... Val Loss: 1.9110\n",
            "Epoch: 6/20... Step: 370... Loss: 2.0041... Val Loss: 1.8903\n",
            "Epoch: 6/20... Step: 380... Loss: 1.9687... Val Loss: 1.8723\n",
            "Epoch: 6/20... Step: 390... Loss: 1.9718... Val Loss: 1.8515\n",
            "Epoch: 6/20... Step: 400... Loss: 1.9704... Val Loss: 1.8411\n",
            "Epoch: 6/20... Step: 410... Loss: 1.9465... Val Loss: 1.8284\n",
            "Epoch: 6/20... Step: 420... Loss: 1.8922... Val Loss: 1.8060\n",
            "Epoch: 6/20... Step: 430... Loss: 1.8836... Val Loss: 1.7892\n",
            "Epoch: 7/20... Step: 440... Loss: 1.8864... Val Loss: 1.7777\n",
            "Epoch: 7/20... Step: 450... Loss: 1.8861... Val Loss: 1.7621\n",
            "Epoch: 7/20... Step: 460... Loss: 1.8548... Val Loss: 1.7507\n",
            "Epoch: 7/20... Step: 470... Loss: 1.8663... Val Loss: 1.7348\n",
            "Epoch: 7/20... Step: 480... Loss: 1.8105... Val Loss: 1.7238\n",
            "Epoch: 7/20... Step: 490... Loss: 1.7980... Val Loss: 1.7123\n",
            "Epoch: 7/20... Step: 500... Loss: 1.8274... Val Loss: 1.6965\n",
            "Epoch: 8/20... Step: 510... Loss: 1.7978... Val Loss: 1.6850\n",
            "Epoch: 8/20... Step: 520... Loss: 1.8325... Val Loss: 1.6768\n",
            "Epoch: 8/20... Step: 530... Loss: 1.7847... Val Loss: 1.6661\n",
            "Epoch: 8/20... Step: 540... Loss: 1.7636... Val Loss: 1.6533\n",
            "Epoch: 8/20... Step: 550... Loss: 1.7843... Val Loss: 1.6455\n",
            "Epoch: 8/20... Step: 560... Loss: 1.7424... Val Loss: 1.6355\n",
            "Epoch: 8/20... Step: 570... Loss: 1.7520... Val Loss: 1.6303\n",
            "Epoch: 9/20... Step: 580... Loss: 1.7445... Val Loss: 1.6227\n",
            "Epoch: 9/20... Step: 590... Loss: 1.7129... Val Loss: 1.6102\n",
            "Epoch: 9/20... Step: 600... Loss: 1.7049... Val Loss: 1.5976\n",
            "Epoch: 9/20... Step: 610... Loss: 1.7334... Val Loss: 1.5929\n",
            "Epoch: 9/20... Step: 620... Loss: 1.6984... Val Loss: 1.5881\n",
            "Epoch: 9/20... Step: 630... Loss: 1.6907... Val Loss: 1.5753\n",
            "Epoch: 9/20... Step: 640... Loss: 1.6810... Val Loss: 1.5722\n",
            "Epoch: 10/20... Step: 650... Loss: 1.7080... Val Loss: 1.5608\n",
            "Epoch: 10/20... Step: 660... Loss: 1.6762... Val Loss: 1.5587\n",
            "Epoch: 10/20... Step: 670... Loss: 1.6514... Val Loss: 1.5506\n",
            "Epoch: 10/20... Step: 680... Loss: 1.6704... Val Loss: 1.5400\n",
            "Epoch: 10/20... Step: 690... Loss: 1.6477... Val Loss: 1.5354\n",
            "Epoch: 10/20... Step: 700... Loss: 1.6941... Val Loss: 1.5323\n",
            "Epoch: 10/20... Step: 710... Loss: 1.6439... Val Loss: 1.5219\n",
            "Epoch: 10/20... Step: 720... Loss: 1.6678... Val Loss: 1.5167\n",
            "Epoch: 11/20... Step: 730... Loss: 1.6522... Val Loss: 1.5103\n",
            "Epoch: 11/20... Step: 740... Loss: 1.6399... Val Loss: 1.5039\n",
            "Epoch: 11/20... Step: 750... Loss: 1.6255... Val Loss: 1.4992\n",
            "Epoch: 11/20... Step: 760... Loss: 1.6504... Val Loss: 1.4977\n",
            "Epoch: 11/20... Step: 770... Loss: 1.6196... Val Loss: 1.4889\n",
            "Epoch: 11/20... Step: 780... Loss: 1.5760... Val Loss: 1.4816\n",
            "Epoch: 11/20... Step: 790... Loss: 1.5815... Val Loss: 1.4750\n",
            "Epoch: 12/20... Step: 800... Loss: 1.5709... Val Loss: 1.4711\n",
            "Epoch: 12/20... Step: 810... Loss: 1.6073... Val Loss: 1.4707\n",
            "Epoch: 12/20... Step: 820... Loss: 1.5813... Val Loss: 1.4641\n",
            "Epoch: 12/20... Step: 830... Loss: 1.5853... Val Loss: 1.4562\n",
            "Epoch: 12/20... Step: 840... Loss: 1.5380... Val Loss: 1.4517\n",
            "Epoch: 12/20... Step: 850... Loss: 1.5319... Val Loss: 1.4452\n",
            "Epoch: 12/20... Step: 860... Loss: 1.5785... Val Loss: 1.4422\n",
            "Epoch: 13/20... Step: 870... Loss: 1.5674... Val Loss: 1.4375\n",
            "Epoch: 13/20... Step: 880... Loss: 1.5783... Val Loss: 1.4315\n",
            "Epoch: 13/20... Step: 890... Loss: 1.5418... Val Loss: 1.4307\n",
            "Epoch: 13/20... Step: 900... Loss: 1.5348... Val Loss: 1.4304\n",
            "Epoch: 13/20... Step: 910... Loss: 1.5437... Val Loss: 1.4263\n",
            "Epoch: 13/20... Step: 920... Loss: 1.5214... Val Loss: 1.4177\n",
            "Epoch: 13/20... Step: 930... Loss: 1.5352... Val Loss: 1.4130\n",
            "Epoch: 14/20... Step: 940... Loss: 1.5379... Val Loss: 1.4081\n",
            "Epoch: 14/20... Step: 950... Loss: 1.4972... Val Loss: 1.4034\n",
            "Epoch: 14/20... Step: 960... Loss: 1.4939... Val Loss: 1.4005\n",
            "Epoch: 14/20... Step: 970... Loss: 1.5368... Val Loss: 1.3983\n",
            "Epoch: 14/20... Step: 980... Loss: 1.4941... Val Loss: 1.3939\n",
            "Epoch: 14/20... Step: 990... Loss: 1.5066... Val Loss: 1.3907\n",
            "Epoch: 14/20... Step: 1000... Loss: 1.4880... Val Loss: 1.3882\n",
            "Epoch: 15/20... Step: 1010... Loss: 1.5044... Val Loss: 1.3840\n",
            "Epoch: 15/20... Step: 1020... Loss: 1.4998... Val Loss: 1.3798\n",
            "Epoch: 15/20... Step: 1030... Loss: 1.4707... Val Loss: 1.3787\n",
            "Epoch: 15/20... Step: 1040... Loss: 1.4789... Val Loss: 1.3757\n",
            "Epoch: 15/20... Step: 1050... Loss: 1.4802... Val Loss: 1.3707\n",
            "Epoch: 15/20... Step: 1060... Loss: 1.5128... Val Loss: 1.3676\n",
            "Epoch: 15/20... Step: 1070... Loss: 1.4690... Val Loss: 1.3650\n",
            "Epoch: 15/20... Step: 1080... Loss: 1.5075... Val Loss: 1.3607\n",
            "Epoch: 16/20... Step: 1090... Loss: 1.4841... Val Loss: 1.3580\n",
            "Epoch: 16/20... Step: 1100... Loss: 1.4804... Val Loss: 1.3575\n",
            "Epoch: 16/20... Step: 1110... Loss: 1.4643... Val Loss: 1.3573\n",
            "Epoch: 16/20... Step: 1120... Loss: 1.4858... Val Loss: 1.3546\n",
            "Epoch: 16/20... Step: 1130... Loss: 1.4658... Val Loss: 1.3476\n",
            "Epoch: 16/20... Step: 1140... Loss: 1.4329... Val Loss: 1.3471\n",
            "Epoch: 16/20... Step: 1150... Loss: 1.4284... Val Loss: 1.3443\n",
            "Epoch: 17/20... Step: 1160... Loss: 1.4327... Val Loss: 1.3416\n",
            "Epoch: 17/20... Step: 1170... Loss: 1.4696... Val Loss: 1.3393\n",
            "Epoch: 17/20... Step: 1180... Loss: 1.4400... Val Loss: 1.3349\n",
            "Epoch: 17/20... Step: 1190... Loss: 1.4356... Val Loss: 1.3333\n",
            "Epoch: 17/20... Step: 1200... Loss: 1.4016... Val Loss: 1.3336\n",
            "Epoch: 17/20... Step: 1210... Loss: 1.4006... Val Loss: 1.3268\n",
            "Epoch: 17/20... Step: 1220... Loss: 1.4469... Val Loss: 1.3279\n",
            "Epoch: 18/20... Step: 1230... Loss: 1.4380... Val Loss: 1.3240\n",
            "Epoch: 18/20... Step: 1240... Loss: 1.4493... Val Loss: 1.3214\n",
            "Epoch: 18/20... Step: 1250... Loss: 1.4163... Val Loss: 1.3180\n",
            "Epoch: 18/20... Step: 1260... Loss: 1.4108... Val Loss: 1.3161\n",
            "Epoch: 18/20... Step: 1270... Loss: 1.4141... Val Loss: 1.3158\n",
            "Epoch: 18/20... Step: 1280... Loss: 1.4019... Val Loss: 1.3131\n",
            "Epoch: 18/20... Step: 1290... Loss: 1.4162... Val Loss: 1.3089\n",
            "Epoch: 19/20... Step: 1300... Loss: 1.4253... Val Loss: 1.3123\n",
            "Epoch: 19/20... Step: 1310... Loss: 1.3789... Val Loss: 1.3058\n",
            "Epoch: 19/20... Step: 1320... Loss: 1.3832... Val Loss: 1.3020\n",
            "Epoch: 19/20... Step: 1330... Loss: 1.4207... Val Loss: 1.3023\n",
            "Epoch: 19/20... Step: 1340... Loss: 1.3798... Val Loss: 1.3016\n",
            "Epoch: 19/20... Step: 1350... Loss: 1.4044... Val Loss: 1.3022\n",
            "Epoch: 19/20... Step: 1360... Loss: 1.3825... Val Loss: 1.2982\n",
            "Epoch: 20/20... Step: 1370... Loss: 1.4032... Val Loss: 1.2949\n",
            "Epoch: 20/20... Step: 1380... Loss: 1.3954... Val Loss: 1.2928\n",
            "Epoch: 20/20... Step: 1390... Loss: 1.3568... Val Loss: 1.2916\n",
            "Epoch: 20/20... Step: 1400... Loss: 1.3749... Val Loss: 1.2930\n",
            "Epoch: 20/20... Step: 1410... Loss: 1.3718... Val Loss: 1.2895\n",
            "Epoch: 20/20... Step: 1420... Loss: 1.4020... Val Loss: 1.2857\n",
            "Epoch: 20/20... Step: 1430... Loss: 1.3675... Val Loss: 1.2851\n",
            "Epoch: 20/20... Step: 1440... Loss: 1.4126... Val Loss: 1.2847\n"
          ],
          "name": "stdout"
        }
      ]
    },
    {
      "cell_type": "markdown",
      "metadata": {
        "id": "CgjW6Ncl9UZW",
        "colab_type": "text"
      },
      "source": [
        "## Getting the best model\n",
        "\n",
        "To set your hyperparameters to get the best performance, you'll want to watch the training and validation losses. If your training loss is much lower than the validation loss, you're overfitting. Increase regularization (more dropout) or use a smaller network. If the training and validation losses are close, you're underfitting so you can increase the size of the network."
      ]
    },
    {
      "cell_type": "markdown",
      "metadata": {
        "id": "jEuc8Y_99UZW",
        "colab_type": "text"
      },
      "source": [
        "## Hyperparameters\n",
        "\n",
        "Here are the hyperparameters for the network.\n",
        "\n",
        "In defining the model:\n",
        "* `n_hidden` - The number of units in the hidden layers.\n",
        "* `n_layers` - Number of hidden LSTM layers to use.\n",
        "\n",
        "We assume that dropout probability and learning rate will be kept at the default, in this example.\n",
        "\n",
        "And in training:\n",
        "* `batch_size` - Number of sequences running through the network in one pass.\n",
        "* `seq_length` - Number of characters in the sequence the network is trained on. Larger is better typically, the network will learn more long range dependencies. But it takes longer to train. 100 is typically a good number here.\n",
        "* `lr` - Learning rate for training\n",
        "\n",
        "Here's some good advice from Andrej Karpathy on training the network. I'm going to copy it in here for your benefit, but also link to [where it originally came from](https://github.com/karpathy/char-rnn#tips-and-tricks).\n",
        "\n",
        "> ## Tips and Tricks\n",
        "\n",
        ">### Monitoring Validation Loss vs. Training Loss\n",
        ">If you're somewhat new to Machine Learning or Neural Networks it can take a bit of expertise to get good models. The most important quantity to keep track of is the difference between your training loss (printed during training) and the validation loss (printed once in a while when the RNN is run on the validation data (by default every 1000 iterations)). In particular:\n",
        "\n",
        "> - If your training loss is much lower than validation loss then this means the network might be **overfitting**. Solutions to this are to decrease your network size, or to increase dropout. For example you could try dropout of 0.5 and so on.\n",
        "> - If your training/validation loss are about equal then your model is **underfitting**. Increase the size of your model (either number of layers or the raw number of neurons per layer)\n",
        "\n",
        "> ### Approximate number of parameters\n",
        "\n",
        "> The two most important parameters that control the model are `n_hidden` and `n_layers`. I would advise that you always use `n_layers` of either 2/3. The `n_hidden` can be adjusted based on how much data you have. The two important quantities to keep track of here are:\n",
        "\n",
        "> - The number of parameters in your model. This is printed when you start training.\n",
        "> - The size of your dataset. 1MB file is approximately 1 million characters.\n",
        "\n",
        ">These two should be about the same order of magnitude. It's a little tricky to tell. Here are some examples:\n",
        "\n",
        "> - I have a 100MB dataset and I'm using the default parameter settings (which currently print 150K parameters). My data size is significantly larger (100 mil >> 0.15 mil), so I expect to heavily underfit. I am thinking I can comfortably afford to make `n_hidden` larger.\n",
        "> - I have a 10MB dataset and running a 10 million parameter model. I'm slightly nervous and I'm carefully monitoring my validation loss. If it's larger than my training loss then I may want to try to increase dropout a bit and see if that helps the validation loss.\n",
        "\n",
        "> ### Best models strategy\n",
        "\n",
        ">The winning strategy to obtaining very good models (if you have the compute time) is to always err on making the network larger (as large as you're willing to wait for it to compute) and then try different dropout values (between 0,1). Whatever model has the best validation performance (the loss, written in the checkpoint filename, low is good) is the one you should use in the end.\n",
        "\n",
        ">It is very common in deep learning to run many different models with many different hyperparameter settings, and in the end take whatever checkpoint gave the best validation performance.\n",
        "\n",
        ">By the way, the size of your training and validation splits are also parameters. Make sure you have a decent amount of data in your validation set or otherwise the validation performance will be noisy and not very informative."
      ]
    },
    {
      "cell_type": "markdown",
      "metadata": {
        "id": "mGNPKpZU9UZW",
        "colab_type": "text"
      },
      "source": [
        "## Checkpoint\n",
        "\n",
        "After training, we'll save the model so we can load it again later if we need too. Here I'm saving the parameters needed to create the same architecture, the hidden layer hyperparameters and the text characters."
      ]
    },
    {
      "cell_type": "code",
      "metadata": {
        "id": "8w7zCTpf9UZX",
        "colab_type": "code",
        "colab": {}
      },
      "source": [
        "# change the name, for saving multiple files\n",
        "model_name = 'rnn_x_epoch.net'\n",
        "\n",
        "checkpoint = {'n_hidden': net.n_hidden,\n",
        "              'n_layers': net.n_layers,\n",
        "              'state_dict': net.state_dict(),\n",
        "              'tokens': net.chars}\n",
        "\n",
        "with open(model_name, 'wb') as f:\n",
        "    torch.save(checkpoint, f)"
      ],
      "execution_count": 0,
      "outputs": []
    },
    {
      "cell_type": "markdown",
      "metadata": {
        "id": "oyr3vX4c9UZY",
        "colab_type": "text"
      },
      "source": [
        "---\n",
        "## Making Predictions\n",
        "\n",
        "Now that the model is trained, we'll want to sample from it and make predictions about next characters! To sample, we pass in a character and have the network predict the next character. Then we take that character, pass it back in, and get another predicted character. Just keep doing this and you'll generate a bunch of text!\n",
        "\n",
        "### A note on the `predict`  function\n",
        "\n",
        "The output of our RNN is from a fully-connected layer and it outputs a **distribution of next-character scores**.\n",
        "\n",
        "> To actually get the next character, we apply a softmax function, which gives us a *probability* distribution that we can then sample to predict the next character.\n",
        "\n",
        "### Top K sampling\n",
        "\n",
        "Our predictions come from a categorical probability distribution over all the possible characters. We can make the sample text and make it more reasonable to handle (with less variables) by only considering some $K$ most probable characters. This will prevent the network from giving us completely absurd characters while allowing it to introduce some noise and randomness into the sampled text. Read more about [topk, here](https://pytorch.org/docs/stable/torch.html#torch.topk).\n"
      ]
    },
    {
      "cell_type": "code",
      "metadata": {
        "id": "Tzl2DW8V9UZZ",
        "colab_type": "code",
        "colab": {}
      },
      "source": [
        "def predict(net, char, h=None, top_k=None):\n",
        "        ''' Given a character, predict the next character.\n",
        "            Returns the predicted character and the hidden state.\n",
        "        '''\n",
        "        \n",
        "        # tensor inputs\n",
        "        x = np.array([[net.char2int[char]]])\n",
        "        x = one_hot_encode(x, len(net.chars))\n",
        "        inputs = torch.from_numpy(x)\n",
        "        \n",
        "        if(train_on_gpu):\n",
        "            inputs = inputs.cuda()\n",
        "        \n",
        "        # detach hidden state from history\n",
        "        h = tuple([each.data for each in h])\n",
        "        # get the output of the model\n",
        "        out, h = net(inputs, h)\n",
        "\n",
        "        # get the character probabilities\n",
        "        p = F.softmax(out, dim=1).data\n",
        "        if(train_on_gpu):\n",
        "            p = p.cpu() # move to cpu\n",
        "        \n",
        "        # get top characters\n",
        "        if top_k is None:\n",
        "            top_ch = np.arange(len(net.chars))\n",
        "        else:\n",
        "            p, top_ch = p.topk(top_k)\n",
        "            top_ch = top_ch.numpy().squeeze()\n",
        "        \n",
        "        # select the likely next character with some element of randomness\n",
        "        p = p.numpy().squeeze()\n",
        "        char = np.random.choice(top_ch, p=p/p.sum())\n",
        "        \n",
        "        # return the encoded value of the predicted char and the hidden state\n",
        "        return net.int2char[char], h"
      ],
      "execution_count": 0,
      "outputs": []
    },
    {
      "cell_type": "markdown",
      "metadata": {
        "id": "B1WiR3uW9UZa",
        "colab_type": "text"
      },
      "source": [
        "### Priming and generating text \n",
        "\n",
        "Typically you'll want to prime the network so you can build up a hidden state. Otherwise the network will start out generating characters at random. In general the first bunch of characters will be a little rough since it hasn't built up a long history of characters to predict from."
      ]
    },
    {
      "cell_type": "code",
      "metadata": {
        "id": "lTt_Whbq9UZb",
        "colab_type": "code",
        "colab": {}
      },
      "source": [
        "def sample(net, size, prime='The', top_k=None):\n",
        "        \n",
        "    if(train_on_gpu):\n",
        "        net.cuda()\n",
        "    else:\n",
        "        net.cpu()\n",
        "    \n",
        "    net.eval() # eval mode\n",
        "    \n",
        "    # First off, run through the prime characters\n",
        "    chars = [ch for ch in prime]\n",
        "    h = net.init_hidden(1)\n",
        "    for ch in prime:\n",
        "        char, h = predict(net, ch, h, top_k=top_k)\n",
        "\n",
        "    chars.append(char)\n",
        "    \n",
        "    # Now pass in the previous character and get a new one\n",
        "    for ii in range(size):\n",
        "        char, h = predict(net, chars[-1], h, top_k=top_k)\n",
        "        chars.append(char)\n",
        "\n",
        "    return ''.join(chars)"
      ],
      "execution_count": 0,
      "outputs": []
    },
    {
      "cell_type": "code",
      "metadata": {
        "id": "vNzQszuq9UZc",
        "colab_type": "code",
        "colab": {
          "base_uri": "https://localhost:8080/",
          "height": 467
        },
        "outputId": "5e625062-a560-4be3-da47-dec0aa714bae"
      },
      "source": [
        "print(sample(net, 1000, prime='Anna', top_k=5))"
      ],
      "execution_count": 24,
      "outputs": [
        {
          "output_type": "stream",
          "text": [
            "Anna Alexey Alexandrovitch went to the condecte to the subject any and that he had not see the words the called the stees.\n",
            "\n",
            "\"The mare was all to\n",
            "be means on the country all strations worly is to be more and to say to her humble to me.\"\n",
            "\n",
            "Alexey Alexandrovitch wished to\n",
            "his\n",
            "brother, and went off with a such thought he called a long while simply.\n",
            "\n",
            "\"Well when I should say\n",
            "in her tis to me. And it's to make you have been sent that here it was the sunsead it.\"\n",
            "\n",
            "Annt the footsary of the can be and to them and anyway. And when he saw the first-both of his simples,\n",
            "and with his wastes worde her\n",
            "to the part of his well say that so all themening seemed at a\n",
            "speen and he west up her\n",
            "head\n",
            "and seeing his\n",
            "hands were\n",
            "to home, while he walked to has that he had been thrugging the pasters in since he hudred into the poonibly to\n",
            "a stream of the suppost with\n",
            "him the conversation, with the same\n",
            "still. They then he coment out if the prince with the coult be did not\n",
            "happ any\n",
            "that, his face, he was time to be and \n"
          ],
          "name": "stdout"
        }
      ]
    },
    {
      "cell_type": "markdown",
      "metadata": {
        "id": "pdaLon4K9UZf",
        "colab_type": "text"
      },
      "source": [
        "## Loading a checkpoint"
      ]
    },
    {
      "cell_type": "code",
      "metadata": {
        "id": "IdfH_VRC9UZf",
        "colab_type": "code",
        "colab": {
          "base_uri": "https://localhost:8080/",
          "height": 35
        },
        "outputId": "b3b42b78-8f95-4284-c30f-dcbec62eb436"
      },
      "source": [
        "# Here we have loaded in a model that trained over 20 epochs `rnn_20_epoch.net`\n",
        "with open('rnn_x_epoch.net', 'rb') as f:\n",
        "    checkpoint = torch.load(f)\n",
        "    \n",
        "loaded = CharRNN(checkpoint['tokens'], n_hidden=checkpoint['n_hidden'], n_layers=checkpoint['n_layers'])\n",
        "loaded.load_state_dict(checkpoint['state_dict'])"
      ],
      "execution_count": 25,
      "outputs": [
        {
          "output_type": "execute_result",
          "data": {
            "text/plain": [
              "<All keys matched successfully>"
            ]
          },
          "metadata": {
            "tags": []
          },
          "execution_count": 25
        }
      ]
    },
    {
      "cell_type": "code",
      "metadata": {
        "id": "BX6WDUQi9UZh",
        "colab_type": "code",
        "colab": {
          "base_uri": "https://localhost:8080/",
          "height": 809
        },
        "outputId": "bd09eef7-8ece-48f1-cffc-3fa70e379446"
      },
      "source": [
        "# Sample using a loaded model\n",
        "print(sample(loaded, 2000, top_k=5, prime=\"And Levin said\"))"
      ],
      "execution_count": 26,
      "outputs": [
        {
          "output_type": "stream",
          "text": [
            "And Levin said well, but with a first as to the\n",
            "creathes. But that in the coller of sered to the feeling all\n",
            "she went out of his side and too to complain to him, he was in which he saw him and take it. He went out of the same as as the\n",
            "children of the wife she had not to subplo of is to home.\n",
            "\n",
            "\"Well, as I think,\" said\n",
            "Sergey Ivanovitch. \"Why, and I don't say. I'd not trive in a stay which he had been all the capare,.\n",
            "In the marriages was impossible into a\n",
            "place and this\n",
            "shall of too thousand,\" she thought,, say at her the tims.\n",
            "\n",
            "\"Well, that's not that\n",
            "you word, you\n",
            "winning,\" she asked the same thing was as somith horest.\n",
            "\n",
            "\"What want to my force there are your langes, I can't be surperting there. But they disputt the peasants, the cannat, that's an office to say. He say that I am anything in\n",
            "at the money in the most that he would be a persait in the consciousny of\n",
            "spart in his\n",
            "bick\n",
            "of\n",
            "any said that\n",
            "he had an idon, that I shanly along him. He would not be attention.\"\n",
            "\n",
            "\"No, thinkind with an other walking of his shall, and so is she could not be a subject and all the condrance, the carryal, we'll be three take on the chance,\n",
            "and\n",
            "to say that's at his bate... In a cheet to be that the princime to be saying that.\n",
            "Well,\n",
            "that's him what will you weal him in husband. The same tise as the commudication of\n",
            "teary that she hands of the professary went up.\"\n",
            "\n",
            "\"Well, and then I don't see you. In this\n",
            "chunce that the post to me, and you know those it to sel her,\" said Stepan Arkadyevitch, to have handed, and his wife's\n",
            "force to see him, and he was as it were being\n",
            "already from\n",
            "humor,\n",
            "was so to think ot and confised and done. After with a suct tending to she had not asked to three.\n",
            "\n",
            "\"That was a laborers over them in\n",
            "his stare,\" said Aganea Alexandrovitch. \"Inder is withont this to dare it. In\n",
            "the candles of their carriage, I's not to care out of\n",
            "me, what we shely it white an official and the same\n",
            "and that I'm not all the same that\n",
            "was\n",
            "some to him. I don't know that the only, as I could an have to de\n"
          ],
          "name": "stdout"
        }
      ]
    }
  ]
}